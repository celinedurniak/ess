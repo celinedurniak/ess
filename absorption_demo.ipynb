{
 "cells": [
  {
   "cell_type": "markdown",
   "metadata": {},
   "source": [
    "# Testing Mantid's CylindricalAbsorption wrapper\n",
    "<div class=\"alert alert-block alert-info\">\n",
    "<b>Information:</b> This notebook shows how to use Mantid's CylindricalAbsorption algorithm with a `scipp` Dataset.\n",
    "\n",
    "<b>Requirements:</b> To run this notebook, you need `mantid`, `scipp` and `numpy` installed as well as the Python script `absorption.py` placed in the same folder as this notebook.   \n",
    "Additionally, the test file `wish_test.nxs` should reside in the same directory.\n",
    "</div>"
   ]
  },
  {
   "cell_type": "code",
   "execution_count": 1,
   "metadata": {},
   "outputs": [
    {
     "data": {
      "text/html": [
       "<style>.output_wrapper .ui-dialog-titlebar {display: none;}</style>"
      ],
      "text/plain": [
       "<IPython.core.display.HTML object>"
      ]
     },
     "metadata": {},
     "output_type": "display_data"
    },
    {
     "name": "stderr",
     "output_type": "stream",
     "text": [
      "/home/piotr/anaconda3/envs/skip/lib/python3.6/site-packages/h5py/__init__.py:36: FutureWarning: Conversion of the second argument of issubdtype from `float` to `np.floating` is deprecated. In future, it will be treated as `np.float64 == np.dtype(float).type`.\n",
      "  from ._conv import register_converters as _register_converters\n"
     ]
    }
   ],
   "source": [
    "import numpy as np\n",
    "import scipp as sc\n",
    "import mantid.simpleapi as simpleapi\n",
    "from scipp.compat.mantid import load\n",
    "from absorption import absorption_correction\n"
   ]
  },
  {
   "cell_type": "markdown",
   "metadata": {},
   "source": [
    "## Loading data\n",
    "\n",
    "Load a suitable dataset first. This is a **HUGE** file so each operation will be quite slow.\n",
    "The load operation takes ~8s on the DMSC workstation."
   ]
  },
  {
   "cell_type": "code",
   "execution_count": 2,
   "metadata": {},
   "outputs": [],
   "source": [
    "filename = \"wish_test.nxs\"\n",
    "dataset = sc.compat.mantid.load(filename=filename)"
   ]
  },
  {
   "cell_type": "markdown",
   "metadata": {},
   "source": [
    "The file is loaded as a `DataArray` with following sizes:"
   ]
  },
  {
   "cell_type": "code",
   "execution_count": 3,
   "metadata": {},
   "outputs": [
    {
     "name": "stdout",
     "output_type": "stream",
     "text": [
      "[Dim.Spectrum, Dim.Tof]\n",
      "[194560]\n"
     ]
    }
   ],
   "source": [
    "print(dataset.dims)\n",
    "print(dataset.shape)"
   ]
  },
  {
   "cell_type": "markdown",
   "metadata": {},
   "source": [
    "## Defining absorption parameters\n",
    "\n",
    "Our absorption should be calculated for the sample."
   ]
  },
  {
   "cell_type": "code",
   "execution_count": 4,
   "metadata": {},
   "outputs": [],
   "source": [
    "scatter_from = \"Sample\""
   ]
  },
  {
   "cell_type": "markdown",
   "metadata": {},
   "source": [
    "## Calculating absorption\n",
    "\n",
    "Now we are ready to calculate the correction, passing the sample definition and example cylinder dimensions to the calculator.\n",
    "We need these, since the data file contains no sample definition.\n",
    "This calculation takes some time."
   ]
  },
  {
   "cell_type": "code",
   "execution_count": 12,
   "metadata": {},
   "outputs": [],
   "source": [
    "correction = absorption_correction(dataset,\n",
    "                                   ScatterFrom=scatter_from,\n",
    "                                   CylinderSampleHeight=3,\n",
    "                                   CylinderSampleRadius=10)"
   ]
  },
  {
   "cell_type": "markdown",
   "metadata": {},
   "source": [
    "The correction dataset uses wavelengths units, so we need to convert it back to time-of-flight, as in the original sample."
   ]
  },
  {
   "cell_type": "code",
   "execution_count": 13,
   "metadata": {},
   "outputs": [],
   "source": [
    "correction = sc.neutron.convert(correction, 'wavelength', 'tof')"
   ]
  },
  {
   "cell_type": "markdown",
   "metadata": {},
   "source": [
    "The absorption correction has been calculated to match the input dataset over bins ranging from"
   ]
  },
  {
   "cell_type": "code",
   "execution_count": 14,
   "metadata": {},
   "outputs": [
    {
     "data": {
      "text/plain": [
       "6"
      ]
     },
     "execution_count": 14,
     "metadata": {},
     "output_type": "execute_result"
    }
   ],
   "source": [
    "correction.coords['spectrum'].values[0]"
   ]
  },
  {
   "cell_type": "markdown",
   "metadata": {},
   "source": [
    "to"
   ]
  },
  {
   "cell_type": "code",
   "execution_count": 15,
   "metadata": {},
   "outputs": [
    {
     "data": {
      "text/plain": [
       "389125"
      ]
     },
     "execution_count": 15,
     "metadata": {},
     "output_type": "execute_result"
    }
   ],
   "source": [
    "correction.coords['spectrum'].values[-1]"
   ]
  },
  {
   "cell_type": "markdown",
   "metadata": {},
   "source": [
    "## More complex parameter definition\n",
    "\n",
    "We may also define other parameters required for Mantid's algorithm."
   ]
  },
  {
   "cell_type": "code",
   "execution_count": 9,
   "metadata": {},
   "outputs": [],
   "source": [
    "sample_number_density = 0.07192\n",
    "number_wavelength_points = 5\n",
    "cylinder_sample_height = 4\n",
    "cylinder_sample_radius = 0.4\n",
    "number_of_slices = 2"
   ]
  },
  {
   "cell_type": "markdown",
   "metadata": {},
   "source": [
    "These parameters can just be appended to the `absorption_correction` call."
   ]
  },
  {
   "cell_type": "code",
   "execution_count": 10,
   "metadata": {},
   "outputs": [],
   "source": [
    "correction = absorption_correction(dataset,\n",
    "                                   ScatterFrom=scatter_from,\n",
    "                                   SampleNumberDensity=sample_number_density,\n",
    "                                   NumberOfWavelengthPoints=number_wavelength_points,\n",
    "                                   CylinderSampleHeight=cylinder_sample_height,\n",
    "                                   CylinderSampleRadius=cylinder_sample_radius,\n",
    "                                   NumberOfSlices=number_of_slices)"
   ]
  },
  {
   "cell_type": "code",
   "execution_count": 11,
   "metadata": {},
   "outputs": [
    {
     "name": "stdout",
     "output_type": "stream",
     "text": [
      "6\n",
      "389125\n"
     ]
    }
   ],
   "source": [
    "correction = sc.neutron.convert(correction, Dim.Wavelength, Dim.Tof)\n",
    "print(correction.coords['spectrum'].values[0])\n",
    "print(correction.coords['spectrum'].values[-1])"
   ]
  },
  {
   "cell_type": "markdown",
   "metadata": {},
   "source": [
    "Adventurous users might want to visualize the correction itself."
   ]
  },
  {
   "cell_type": "code",
   "execution_count": null,
   "metadata": {},
   "outputs": [],
   "source": [
    "from scipp.plot import plot"
   ]
  },
  {
   "cell_type": "code",
   "execution_count": null,
   "metadata": {},
   "outputs": [],
   "source": [
    "plot(correction)"
   ]
  },
  {
   "cell_type": "code",
   "execution_count": null,
   "metadata": {},
   "outputs": [],
   "source": []
  }
 ],
 "metadata": {
  "kernelspec": {
   "display_name": "Python 3",
   "language": "python",
   "name": "python3"
  },
  "language_info": {
   "codemirror_mode": {
    "name": "ipython",
    "version": 3
   },
   "file_extension": ".py",
   "mimetype": "text/x-python",
   "name": "python",
   "nbconvert_exporter": "python",
   "pygments_lexer": "ipython3",
   "version": "3.6.7"
  }
 },
 "nbformat": 4,
 "nbformat_minor": 4
}
