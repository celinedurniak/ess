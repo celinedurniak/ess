{
 "cells": [
  {
   "cell_type": "code",
   "execution_count": 1,
   "metadata": {},
   "outputs": [
    {
     "data": {
      "text/html": [
       "<style>.output_wrapper .ui-dialog-titlebar {display: none;}</style>"
      ],
      "text/plain": [
       "<IPython.core.display.HTML object>"
      ]
     },
     "metadata": {},
     "output_type": "display_data"
    }
   ],
   "source": [
    "import scipp as sc\n",
    "from scipp.plot import plot\n",
    "import numpy as np\n",
    "import dataconfig # run make_config.py to create this\n",
    "from graphical_reduction import q1d  \n",
    "import ipywidgets as w\n",
    "import IPython.display as disp\n",
    "import warnings"
   ]
  },
  {
   "cell_type": "code",
   "execution_count": 2,
   "metadata": {},
   "outputs": [],
   "source": [
    "def load_and_return(run):\n",
    "    global loaded_data\n",
    "    print(f'Loading data for run {run}:')\n",
    "    loaded_data[run] = sc.neutron.load(filename=f'{path}/LARMOR000{run}.nxs')\n",
    "    return loaded_data[run]\n",
    "\n",
    "def load_data(run_number_list):\n",
    "    global loaded_data\n",
    "    for run in run_number_list:\n",
    "        if run not in loaded_data:\n",
    "            load_and_return(run)\n",
    "        else:\n",
    "            print(f'Run {run} already loaded')\n",
    "\n",
    "def run_reduction(sample_run_number, sample_transmission_run_number,\n",
    "                  background_transmission_run_number, background_run_number):\n",
    "    global loaded_data\n",
    "    sample = loaded_data[sample_run_number] if sample_run_number in loaded_data else load_and_return(sample_run_number)\n",
    "    sample_trans = loaded_data[sample_transmission_run_number] if sample_transmission_run_number in loaded_data else load_and_return(sample_transmission_run_number)\n",
    "    background = loaded_data[background_run_number] if background_run_number in loaded_data else load_and_return(background_run_number)\n",
    "    background_trans = loaded_data[background_transmission_run_number] if background_transmission_run_number in loaded_data else load_and_return(background_transmission_run_number)\n",
    "    \n",
    "    dtype = sample.coords['position'].dtype\n",
    "    sample_pos_offset = sc.Variable(value=[0.0, 0.0, 0.30530], unit=sc.units.m, dtype=dtype)\n",
    "    bench_pos_offset = sc.Variable(value=[0.0, 0.001, 0.0], unit=sc.units.m, dtype=dtype)\n",
    "    for item in [sample, sample_trans, background, background_trans]:\n",
    "        item.coords['sample-position'] += sample_pos_offset\n",
    "        item.coords['position'] += bench_pos_offset\n",
    "    \n",
    "    moderator_file_path = f'{path}/{moderator_file}'\n",
    "    direct_beam_file_path = f'{path}/{direct_beam_file}'\n",
    "    \n",
    "    global sample_q1d\n",
    "    print('Reducing sample data:')\n",
    "    sample_q1d = q1d(data=sample, transmission=sample_trans, \n",
    "                     l_collimation=l_collimation, r1=r1, r2=r2, dr=dr, wavelength_bins=wavelength_bins,\n",
    "                     direct_beam_file_path=direct_beam_file_path, moderator_file_path=moderator_file_path,\n",
    "                     wavelength_bands=None)\n",
    "    \n",
    "    global background_q1d\n",
    "    print('Reducing background data:')\n",
    "    background_q1d = q1d(data=background, transmission=background_trans,\n",
    "                         l_collimation=l_collimation, r1=r1, r2=r2, dr=dr, wavelength_bins=wavelength_bins,\n",
    "                         direct_beam_file_path=direct_beam_file_path, moderator_file_path=moderator_file_path,\n",
    "                         wavelength_bands=None)\n",
    "    \n",
    "    global reduced\n",
    "    reduced = sample_q1d - background_q1d\n",
    "\n",
    "    reduced.coords['Transmission'] = sc.Variable(\n",
    "        value=f'{sample_transmission_run_number}_trans_sample_0.9_13.5_unfitted')\n",
    "    reduced.coords['TransmissionCan'] = sc.Variable(\n",
    "        value=f'{background_transmission_run_number}_trans_can_0.9_13.5_unfitted')\n",
    "    \n",
    "    print('Finished Reduction')\n",
    "    "
   ]
  },
  {
   "cell_type": "code",
   "execution_count": 9,
   "metadata": {},
   "outputs": [],
   "source": [
    "class ReductionWidget(w.Box):\n",
    "    def __init__(self):\n",
    "        super().__init__()\n",
    "        self.sample = w.Text(description='Sample', value='49338')\n",
    "        self.sample_trans = w.Text(description='Sample trans', value='49339')\n",
    "        self.background = w.Text(description='Background', value='49334')\n",
    "        self.background_trans = w.Text(description='Backg... trans', value='49335')\n",
    "        self.load_button = w.Button(description='Load')\n",
    "        self.load_button.on_click(self._on_load_button_clicked)\n",
    "        self._button = w.Button(description='Process')\n",
    "        self._button.on_click(self._on_process_button_clicked)\n",
    "        self.output = w.Output(width='100%', height='100%')\n",
    "        self.children = [w.VBox([w.HBox([self.sample, self.load_button]), w.HBox([self.sample_trans, self._button]), self.background, self.background_trans, self.output])]\n",
    "        \n",
    "    def _on_process_button_clicked(self, b):\n",
    "        self.output.clear_output()\n",
    "        sample_run_number = self.sample.value\n",
    "        sample_transmission_run_number = self.sample_trans.value\n",
    "        background_run_number = self.background.value\n",
    "        background_transmission_run_number = self.background_trans.value\n",
    "        with self.output:\n",
    "            run_reduction(sample_run_number, sample_transmission_run_number, background_transmission_run_number, background_run_number)\n",
    "        \n",
    "        \n",
    "    def _on_load_button_clicked(self, b):\n",
    "        self.output.clear_output()\n",
    "        run_list = [self.sample.value, self.sample_trans.value, self.background.value, self.background_trans.value]\n",
    "        with self.output:\n",
    "            load_data(run_list)\n",
    "            "
   ]
  },
  {
   "cell_type": "code",
   "execution_count": 4,
   "metadata": {},
   "outputs": [],
   "source": [
    "class PlotWidget(w.Box):\n",
    "    def __init__(self):\n",
    "        super().__init__()\n",
    "        options = [key for key, item in globals().items() if isinstance(item, (sc.DataArray, sc.Dataset))]\n",
    "        self._data_selector = w.Combobox(placeholder='Data to plot', options=options)\n",
    "        self._button = w.Button(description='Plot')\n",
    "        self._button.on_click(self._on_button_clicked)\n",
    "        self.output = w.Output(width='100%', height='100%')\n",
    "        self.children = [w.VBox([w.HBox([self._data_selector, self._button]), self.output])]\n",
    "        \n",
    "    def _on_button_clicked(self, b):\n",
    "        self.output.clear_output()\n",
    "        data_dict = {key: globals()[key] for key in \"\".join(self._data_selector.value.split()).split(',')}\n",
    "        ds = sc.Dataset(data_dict)\n",
    "        with self.output:\n",
    "            plot(ds)"
   ]
  },
  {
   "cell_type": "code",
   "execution_count": 5,
   "metadata": {},
   "outputs": [],
   "source": [
    "# Set reduction settings.\n",
    "path = dataconfig.data_root\n",
    "direct_beam_file = 'DirectBeam_20feb_full_v3.dat'\n",
    "moderator_file = 'ModeratorStdDev_TS2_SANS_LETexptl_07Aug2015.txt'\n",
    "l_collimation = sc.Variable(value=5.0, unit=sc.units.m)\n",
    "r2 = sc.Variable(value=4.0824829046386295/1000, unit=sc.units.m) # sample aperture radius\n",
    "r1 = sc.Variable(value=14.433756729740645/1000, unit=sc.units.m) # source aperture radius\n",
    "dr = sc.Variable(value=8.0/1000, unit=sc.units.m) # virtual ring width on detector\n",
    "wavelength_bins = sc.Variable(\n",
    "        dims=['wavelength'],\n",
    "        unit=sc.units.angstrom,\n",
    "        values=np.geomspace(0.9, 13.5, num=110))\n",
    "loaded_data = {}"
   ]
  },
  {
   "cell_type": "code",
   "execution_count": 10,
   "metadata": {},
   "outputs": [
    {
     "data": {
      "application/vnd.jupyter.widget-view+json": {
       "model_id": "0c4d697102d14b7595d340936a1ce717",
       "version_major": 2,
       "version_minor": 0
      },
      "text/plain": [
       "ReductionWidget(children=(VBox(children=(HBox(children=(Text(value='49338', description='Sample'), Button(desc…"
      ]
     },
     "metadata": {},
     "output_type": "display_data"
    }
   ],
   "source": [
    "disp.display(ReductionWidget())"
   ]
  },
  {
   "cell_type": "code",
   "execution_count": 8,
   "metadata": {
    "scrolled": false
   },
   "outputs": [
    {
     "data": {
      "application/vnd.jupyter.widget-view+json": {
       "model_id": "ad580839e342440286c13c8ae371c606",
       "version_major": 2,
       "version_minor": 0
      },
      "text/plain": [
       "PlotWidget(children=(VBox(children=(HBox(children=(Combobox(value='', options=('sample_q1d', 'background_q1d',…"
      ]
     },
     "metadata": {},
     "output_type": "display_data"
    }
   ],
   "source": [
    "disp.display(PlotWidget())"
   ]
  },
  {
   "cell_type": "code",
   "execution_count": null,
   "metadata": {
    "scrolled": false
   },
   "outputs": [],
   "source": []
  }
 ],
 "metadata": {
  "kernelspec": {
   "display_name": "Python 3",
   "language": "python",
   "name": "python3"
  },
  "language_info": {
   "codemirror_mode": {
    "name": "ipython",
    "version": 3
   },
   "file_extension": ".py",
   "mimetype": "text/x-python",
   "name": "python",
   "nbconvert_exporter": "python",
   "pygments_lexer": "ipython3",
   "version": "3.7.8"
  }
 },
 "nbformat": 4,
 "nbformat_minor": 4
}
