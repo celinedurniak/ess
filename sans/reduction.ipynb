{
 "cells": [
  {
   "cell_type": "code",
   "execution_count": null,
   "metadata": {},
   "outputs": [],
   "source": [
    "import scipp as sc\n",
    "import numpy as np"
   ]
  },
  {
   "cell_type": "code",
   "execution_count": null,
   "metadata": {},
   "outputs": [],
   "source": [
    "def to_bin_centers(d, dim):\n",
    "    edges = d.coords[dim].copy()\n",
    "    del d.coords[dim]\n",
    "    d.coords[dim] = 0.5 * (edges[dim, 1:] + edges[dim, :-1])"
   ]
  },
  {
   "cell_type": "code",
   "execution_count": null,
   "metadata": {},
   "outputs": [],
   "source": [
    "def to_bin_edges(d, dim):\n",
    "    centers = d.coords[dim].copy()\n",
    "    del d.coords[dim]\n",
    "    first = 1.5*centers[dim, 0] - 0.5*centers[dim, 1]\n",
    "    last = 1.5*centers[dim, -1] - 0.5*centers[dim, -2]\n",
    "    bulk = 0.5 * (centers[dim, 1:] + centers[dim, :-1])\n",
    "    edges = sc.concatenate(first, bulk, 'wavelength')\n",
    "    edges = sc.concatenate(edges, last, 'wavelength')\n",
    "    d.coords[dim] = edges"
   ]
  },
  {
   "cell_type": "code",
   "execution_count": null,
   "metadata": {},
   "outputs": [],
   "source": [
    "path = '/home/simon/code/loki_tube_scripts/test/test_data'\n",
    "direct_beam_file = 'DirectBeam_20feb_full_v3.dat'\n",
    "moderator_file = 'ModeratorStdDev_TS2_SANS_LETexptl_07Aug2015.txt'\n",
    "sample_run_number = 49338\n",
    "sample_transmission_run_number = 49339\n",
    "background_run_number = 49334\n",
    "background_transmission_run_number = 49335\n",
    "\n",
    "def load_larmor(run_number):\n",
    "    return sc.neutron.load(filename=f'{path}/LARMOR000{run_number}.nxs')\n",
    "\n",
    "def load_rkh(filename):\n",
    "    return sc.neutron.load(\n",
    "        filename=filename,\n",
    "        mantid_alg='LoadRKH',\n",
    "        mantid_args={'FirstColumnValue':'Wavelength'})\n",
    "    "
   ]
  },
  {
   "cell_type": "code",
   "execution_count": null,
   "metadata": {},
   "outputs": [],
   "source": [
    "sample_trans = load_larmor(sample_transmission_run_number)\n",
    "sample = load_larmor(sample_run_number)\n",
    "background_trans = load_larmor(background_transmission_run_number)\n",
    "background = load_larmor(background_run_number)"
   ]
  },
  {
   "cell_type": "code",
   "execution_count": null,
   "metadata": {},
   "outputs": [],
   "source": [
    "sample_pos_offset = sc.Variable(\n",
    "    value=[0.0, 0.0, 0.30530],\n",
    "    unit=sc.units.m,\n",
    "    dtype=sc.dtype.vector_3_float64)\n",
    "bench_pos_offset = sc.Variable(\n",
    "    value=[0.0, 0.001, 0.0],\n",
    "    unit=sc.units.m,\n",
    "    dtype=sc.dtype.vector_3_float64)\n",
    "for item in [sample, sample_trans, background, background_trans]:\n",
    "    item.coords['sample_position'] += sample_pos_offset\n",
    "    item.coords['position'] += bench_pos_offset"
   ]
  },
  {
   "cell_type": "code",
   "execution_count": null,
   "metadata": {},
   "outputs": [],
   "source": [
    "def q1d(data, transmission):\n",
    "    # TODO\n",
    "    #transWs = self._setupAndCalculateTransmission(transWsName, \"transWs\")\n",
    "    # TODO\n",
    "    #dataWs = self._applyMask(dataWs)\n",
    "    data = sc.neutron.convert(data, 'tof', 'wavelength')\n",
    "    # TODO fix `num` to match Mantid's Params='0.9,-0.025,13.5'\n",
    "    wavelength_bins = sc.Variable(\n",
    "        dims=['wavelength'],\n",
    "        unit=sc.units.angstrom,\n",
    "        values=np.geomspace(0.9, 13.5, num=100))\n",
    "    data = sc.rebin(data, 'wavelength', wavelength_bins)\n",
    "\n",
    "    monitor = data.attrs['monitor1'].value.copy() # TODO is this the correct one?\n",
    "    # TODO\n",
    "    # monWs = CalculateFlatBackground(InputWorkspace=monWs, StartX=40000, EndX=99000, Mode='Mean')\n",
    "    sc.neutron.convert(monitor, 'tof', 'wavelength', out=monitor)\n",
    "    monitor = sc.rebin(monitor, 'wavelength', wavelength_bins)\n",
    "\n",
    "    # this factor seems to be a fudge factor. Explanation pending.\n",
    "    factor = 100.0 / 176.71458676442586\n",
    "    data *= factor\n",
    "\n",
    "    # Setup direct beam and normalise to monitor. I.e. adjust for efficiency of detector across the wavelengths.\n",
    "    direct_beam = load_rkh(filename=f'{path}/{direct_beam_file}')\n",
    "    to_bin_edges(direct_beam, 'wavelength')\n",
    "    direct_beam = sc.rebin(direct_beam, 'wavelength', monitor.coords['wavelength'])\n",
    "    direct_beam = monitor * transmission * direct_beam\n",
    "\n",
    "    # Estimate qresolution function\n",
    "    moderator = load_rkh(filename=f'{path}/{moderator_file}')\n",
    "    to_bin_edges(moderator, 'wavelength')\n",
    "    # TODO\n",
    "    #qResWs = TOFSANSResolutionByPixel(InputWorkspace=dataWs,\n",
    "    #                                  DeltaR=8,\n",
    "    #                                  SampleApertureRadius=4.0824829046386295,\n",
    "    #                                  SourceApertureRadius=14.433756729740645,\n",
    "    #                                  SigmaModerator=modWs, CollimationLength=5,\n",
    "    #                                  AccountForGravity=True,\n",
    "    #                                  ExtraLength=2)\n",
    "\n",
    "    q_bins = sc.Variable(\n",
    "        dims=['Q'],\n",
    "        unit=sc.units.one/sc.units.angstrom,\n",
    "        values=np.geomspace(0.0045, 0.7, num=100)) # TODO match '0.0045,-0.08,0.7'\n",
    "    # TODO QResolution\n",
    "    # TODO solid angle weighting\n",
    "    # TODO no pixelAdj, maybe need to broadcast direct_beam for `sum` to give correct result\n",
    "    d = sc.Dataset({'data':data, 'norm':direct_beam})\n",
    "    to_bin_centers(d, 'wavelength')\n",
    "    d = sc.neutron.convert(d, 'wavelength', 'Q') # TODO no gravity yet\n",
    "    d = sc.histogram(d, reference.coords['Q'])\n",
    "    d = sc.sum(d, 'spectrum')\n",
    "    I = d['data']/d['norm']\n",
    "\n",
    "    return I\n"
   ]
  },
  {
   "cell_type": "code",
   "execution_count": null,
   "metadata": {},
   "outputs": [],
   "source": [
    "sample_q1d = q1d(data=sample, transmission=sample_trans)\n",
    "background_q1d = q1d(data=background, transmission=background_trans)\n",
    "reduced = (sample_q1d - background_q1d)['Q', 2:-2] # TODO params\n",
    "\n",
    "reduced.attrs['UserFile'] = sc.Variable(\n",
    "    value='USER_Raspino_191E_BCSLarmor_24Feb2020_v1.txt')\n",
    "reduced.attrs['Transmission'] = sc.Variable(\n",
    "    value=str(self.sampleTransRun) + '_trans_sample_0.9_13.5_unfitted')\n",
    "reduced.attrs['TransmissionCan'] = sc.Variable(\n",
    "    value='49335_trans_can_0.9_13.5_unfitted')"
   ]
  }
 ],
 "metadata": {
  "kernelspec": {
   "display_name": "Python 3",
   "language": "python",
   "name": "python3"
  },
  "language_info": {
   "codemirror_mode": {
    "name": "ipython",
    "version": 3
   },
   "file_extension": ".py",
   "mimetype": "text/x-python",
   "name": "python",
   "nbconvert_exporter": "python",
   "pygments_lexer": "ipython3",
   "version": "3.7.3"
  }
 },
 "nbformat": 4,
 "nbformat_minor": 4
}
