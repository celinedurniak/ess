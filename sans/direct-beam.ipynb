{
 "cells": [
  {
   "cell_type": "markdown",
   "metadata": {},
   "source": [
    "# Direct beam iteration"
   ]
  },
  {
   "cell_type": "code",
   "execution_count": null,
   "metadata": {},
   "outputs": [],
   "source": [
    "import scipp as sc\n",
    "import numpy as np\n",
    "import sans\n",
    "import contrib"
   ]
  },
  {
   "cell_type": "code",
   "execution_count": null,
   "metadata": {},
   "outputs": [],
   "source": [
    "def setup_masks(data):\n",
    "    masks = {}\n",
    "    bad_straws = sc.Variable(dims=['spectrum'], shape=sample.coords['spectrum'].shape, dtype=sc.dtype.bool)\n",
    "    mask = sc.Variable(value=True)\n",
    "    bad_straws[loki.straw(tube=0, straw=6)] |= mask\n",
    "    bad_straws[loki.straw(tube=1, straw=2)] |= mask\n",
    "    bad_straws[loki.straw(tube=5, straw=1)] |= mask\n",
    "    for straw in 1,2,3,4,5:\n",
    "        bad_straws[loki.straw(tube=12, straw=straw)] |= mask\n",
    "    \n",
    "    tof = data.coords['tof']\n",
    "    data.masks['bins'] = sc.less(tof['tof',1:], 1500.0 * sc.units.us) | \\\n",
    "                         (sc.greater(tof['tof',:-1], 17500.0 * sc.units.us) & \\\n",
    "                          sc.less(tof['tof',1:], 19000.0 * sc.units.us))\n",
    "    pos = sc.neutron.position(data)\n",
    "    x = sc.geometry.x(pos)\n",
    "    y = sc.geometry.y(pos)\n",
    "    masks['bad-straws'] = bad_straws\n",
    "    masks['beam-stop'] = sc.less(sc.sqrt(x*x+y*y), 0.045 * sc.units.m)\n",
    "    masks['tube-ends'] = sc.greater(sc.abs(x), 0.36 * sc.units.m) # roughly all det IDs listed in original\n",
    "    #MaskDetectorsInShape(Workspace=maskWs, ShapeXML=self.maskingPlaneXML) # irrelevant tiny wedge?\n",
    "    return masks"
   ]
  },
  {
   "cell_type": "code",
   "execution_count": null,
   "metadata": {
    "scrolled": false
   },
   "outputs": [],
   "source": [
    "def fit_gauss_coil(data, flat_background):\n",
    "    import functools\n",
    "    from scipp.compat.mantid import fit\n",
    "    import gauss_coil_fit1\n",
    "    model = \"polyGaussCoil\"\n",
    "    params = f\"I0=60.0,Rg=50.0,Mw_by_Mn=1.02,Background={flat_background.value}\"\n",
    "    ties = \"Rg=50.0,Mw_by_Mn=1.02\"\n",
    "    def fit_layer(i):\n",
    "        return fit(data['layer', i],\n",
    "                   mantid_args={'Function':f'name={model},{params}', 'Ties':ties})\n",
    "    params, diff = zip(*map(fit_layer, range(data.coords['layer'].shape[0])))\n",
    "    concat = functools.partial(sc.concatenate, dim='layer')\n",
    "    return functools.reduce(concat, params), functools.reduce(concat, diff)"
   ]
  },
  {
   "cell_type": "code",
   "execution_count": null,
   "metadata": {},
   "outputs": [],
   "source": [
    "def normalize_and_subtract(sample, background):\n",
    "    sample_norm = sample['data'] / sample['norm']\n",
    "    background_norm = background['data'] / background['norm']\n",
    "    return sample_norm - background_norm\n",
    "\n",
    "def q_range_mask(wavelength):\n",
    "    # Ratio of reduced_band / reduced is averaged (integrated) over wavelength-dependent interval\n",
    "    # Use a mask, so we can just use `sc.mean`.\n",
    "    # Note that in the original script Integration(...)/delta_Q is used, but this\n",
    "    # is biased due to log binning, maybe on purpose...?\n",
    "    inv_w = sc.reciprocal(wavelength)\n",
    "    dim = inv_w.dims[0]\n",
    "    d_inv_w = sc.concatenate(inv_w[dim,1:].copy(), inv_w[dim,:-1].copy(), 'bound') - inv_w[dim,-1]\n",
    "    q_range = qlongW + d_inv_w * (qshortW - qlongW) / (inv_w[dim,0] - inv_w[dim,-1])\n",
    "    qmin = q_range['bound',0]\n",
    "    qmax = q_range['bound',1]\n",
    "    return sc.greater(qmin, q_bins['Q',:-1]) | sc.less(qmax, q_bins['Q',1:])\n",
    "\n",
    "def interpolate_cubic_spline(data, x, dim):\n",
    "    import functools\n",
    "    from scipy import interpolate\n",
    "    def interpolate_layer(i):\n",
    "        tck = interpolate.splrep(contrib.midpoints(data.coords[dim], dim).values, data['layer',i].values)\n",
    "        # TODO uncertainties\n",
    "        return sc.Variable(dims=[dim], values=interpolate.splev(x.values, tck))\n",
    "    y = map(interpolate_layer, range(data.coords['layer'].shape[0]))\n",
    "    concat = functools.partial(sc.concatenate, dim='layer')\n",
    "    return sc.DataArray(data=functools.reduce(concat, y), coords={dim:x.copy()})\n",
    "\n",
    "def to_q_by_wavelength(data, transmission, direct_beam, wavelength_bands):\n",
    "    wav = sans.to_wavelength(data=data,\n",
    "                             transmission=transmission,\n",
    "                             direct_beam=direct_beam,\n",
    "                             masks=setup_masks(data),\n",
    "                             wavelength_bins=wavelength_bins)\n",
    "    return sans.reduce_by_wavelength(wav, q_bins, groupby='layer', wavelength_bands=wavelength_bands)\n",
    "\n",
    "def direct_beam_iteration(direct_beam, layers, wavelength_bands, flat_background=0.25*sc.units.one):\n",
    "    print('start iteration')\n",
    "    direct_beam_by_pixel = sc.choose(layers, choices=direct_beam, dim='layer')\n",
    "    sample_q_lambda = to_q_by_wavelength(data=sample, transmission=sample_trans,\n",
    "                                         direct_beam=direct_beam_by_pixel,\n",
    "                                         wavelength_bands=wavelength_bands)\n",
    "    background_q_lambda = to_q_by_wavelength(data=background, transmission=background_trans,\n",
    "                                             direct_beam=direct_beam_by_pixel,\n",
    "                                             wavelength_bands=wavelength_bands)\n",
    "\n",
    "    # reduced by wavelength band\n",
    "    reduced_by_wavelength = normalize_and_subtract(sample_q_lambda, background_q_lambda)\n",
    "    \n",
    "    # sum wavelength bands to reduce for full range\n",
    "    sample_q1d = sc.sum(sample_q_lambda, 'wavelength')\n",
    "    background_q1d = sc.sum(background_q_lambda, 'wavelength')\n",
    "    reduced = normalize_and_subtract(sample_q1d, background_q1d)\n",
    "    \n",
    "    params, diff = fit_gauss_coil(contrib.select_bins(reduced, 'Q', qlongW['bound', 0], qshortW['bound', 1]),\n",
    "                                  flat_background=flat_background)\n",
    "    scale = I0_expected / params['parameter', 0].data\n",
    "    reduced_by_wavelength *= scale\n",
    "    reduced *= scale\n",
    "    direct_beam = direct_beam / scale\n",
    "    ratio = (reduced_by_wavelength - flat_background) / (reduced - flat_background)\n",
    "    ratio.masks['Q-range-mask'] = q_range_mask(wavelength_bands)\n",
    "    norm = 1.0*sc.units.one + damp*(sc.mean(ratio, 'Q') - 1.0*sc.units.one)\n",
    "    # TODO original uses scale for interpolation, but is this necessary if we don't deal with histogram?\n",
    "    # d_w = wavelength['wavelength',1:]-wavelength['wavelength',:-1]\n",
    "    # scale = 1.0*sc.units.angstrom + damp*(norm*d_w-1.0*sc.units.angstrom)\n",
    "    splined = interpolate_cubic_spline(norm, direct_beam.coords['wavelength'], 'wavelength')\n",
    "    direct_beam *= splined\n",
    "    \n",
    "    # store some information for inspecting intermediate terms\n",
    "    direct_beam.attrs['fit'] = sc.Variable(value=diff)\n",
    "    direct_beam.attrs['spline'] = sc.Variable(value=splined)\n",
    "    \n",
    "    return direct_beam"
   ]
  },
  {
   "cell_type": "code",
   "execution_count": null,
   "metadata": {},
   "outputs": [],
   "source": [
    "import dataconfig # run make_config.py to create this\n",
    "\n",
    "path = dataconfig.data_root\n",
    "direct_beam_file = 'DirectBeam_20feb_full_v3.dat' # same as DirectBeam_28Apr2020.dat\n",
    "moderator_file = 'ModeratorStdDev_TS2_SANS_LETexptl_07Aug2015.txt'\n",
    "sample_run_number = 49338\n",
    "sample_transmission_run_number = 49339\n",
    "background_run_number = 49334\n",
    "background_transmission_run_number = 49335\n",
    "\n",
    "def load_larmor(run_number):\n",
    "    return sc.neutron.load(filename=f'{path}/LARMOR000{run_number}.nxs')\n",
    "\n",
    "def load_rkh(filename):\n",
    "    return sc.neutron.load(\n",
    "           filename=filename,\n",
    "           mantid_alg='LoadRKH',\n",
    "           mantid_args={'FirstColumnValue':'Wavelength'})"
   ]
  },
  {
   "cell_type": "code",
   "execution_count": null,
   "metadata": {},
   "outputs": [],
   "source": [
    "%%time\n",
    "sample_trans = load_larmor(sample_transmission_run_number)\n",
    "sample = load_larmor(sample_run_number)\n",
    "background_trans = load_larmor(background_transmission_run_number)\n",
    "background = load_larmor(background_run_number)"
   ]
  },
  {
   "cell_type": "markdown",
   "metadata": {},
   "source": [
    "## Visualizations\n",
    "\n",
    "### Bad straws"
   ]
  },
  {
   "cell_type": "code",
   "execution_count": null,
   "metadata": {
    "scrolled": false
   },
   "outputs": [],
   "source": [
    "from scipp.plot import plot\n",
    "from loki import LoKI\n",
    "loki = LoKI()\n",
    "pixel_counts = sc.sum(sample, 'tof') # sum is optional, could also keep TOF\n",
    "pixel_counts = loki.to_logical_dims(pixel_counts)\n",
    "straw_counts = sc.sum(pixel_counts, 'pixel')\n",
    "plot(straw_counts, log=True, vmin=1, vmax=10)"
   ]
  },
  {
   "cell_type": "markdown",
   "metadata": {},
   "source": [
    "### X-Y projection"
   ]
  },
  {
   "cell_type": "code",
   "execution_count": null,
   "metadata": {
    "scrolled": false
   },
   "outputs": [],
   "source": [
    "from scipp.plot import plot\n",
    "plot(sans.project_xy(sc.sum(sample,'tof')))\n",
    "plot(sans.project_xy(sample))"
   ]
  },
  {
   "cell_type": "markdown",
   "metadata": {},
   "source": [
    "## Reduction and direct-beam iteration"
   ]
  },
  {
   "cell_type": "code",
   "execution_count": null,
   "metadata": {},
   "outputs": [],
   "source": [
    "%%time\n",
    "dtype = sample.coords['position'].dtype\n",
    "sample_pos_offset = sc.Variable(value=[0.0, 0.0, 0.30530], unit=sc.units.m, dtype=dtype)\n",
    "bench_pos_offset = sc.Variable(value=[0.0, 0.001, 0.0], unit=sc.units.m, dtype=dtype)\n",
    "for item in [sample, sample_trans, background, background_trans]:\n",
    "    item.coords['sample-position'] += sample_pos_offset\n",
    "    item.coords['position'] += bench_pos_offset"
   ]
  },
  {
   "cell_type": "code",
   "execution_count": null,
   "metadata": {},
   "outputs": [],
   "source": [
    "q_bins = sc.Variable(\n",
    "    dims=['Q'],\n",
    "    unit=sc.units.one/sc.units.angstrom,\n",
    "    values=np.geomspace(0.007999, 0.6, num=55))\n",
    "wavelength_bins = sc.Variable(\n",
    "    dims=['wavelength'],\n",
    "    unit=sc.units.angstrom,\n",
    "    values=np.geomspace(1.0, 12.9, num=110))\n",
    "wavelength_bands = sc.Variable(\n",
    "    dims=['wavelength'],\n",
    "    unit=sc.units.angstrom,\n",
    "    values=[1.0,1.4,1.8,2.2,3.0,4.0,5.0,7.0,9.0,11.0,12.9])"
   ]
  },
  {
   "cell_type": "code",
   "execution_count": null,
   "metadata": {},
   "outputs": [],
   "source": [
    "I0_expected = 55.77 * sc.units.one"
   ]
  },
  {
   "cell_type": "code",
   "execution_count": null,
   "metadata": {},
   "outputs": [],
   "source": [
    "qlongW = sc.Variable(dims=['bound'], unit=q_bins.unit, values=[0.008, 0.05])\n",
    "qshortW = sc.Variable(dims=['bound'], unit=q_bins.unit, values=[0.1, 0.22])\n",
    "damp = 1.0*sc.units.one"
   ]
  },
  {
   "cell_type": "code",
   "execution_count": null,
   "metadata": {},
   "outputs": [],
   "source": [
    "%%time\n",
    "from loki import LoKI\n",
    "loki = LoKI()\n",
    "layers = loki.layers()\n",
    "n_layer = sc.max(layers).value + 1\n",
    "direct_beam = load_rkh(filename=f'{path}/{direct_beam_file}')\n",
    "# Use same starting value for all layers\n",
    "direct_beam = sc.Variable(dims=['layer'], values=np.ones(n_layer)) * direct_beam\n",
    "direct_beam.coords['layer'] = sc.Variable(dims=['layer'], dtype=sc.dtype.int32, values=np.arange(n_layer))"
   ]
  },
  {
   "cell_type": "code",
   "execution_count": null,
   "metadata": {
    "scrolled": false
   },
   "outputs": [],
   "source": [
    "direct_beams = [direct_beam]\n",
    "for i in range(4):\n",
    "    direct_beams.append(direct_beam_iteration(direct_beams[-1],\n",
    "                                              layers=layers,\n",
    "                                              wavelength_bands=wavelength_bands))\n",
    "direct_beams = sc.Dataset({f'iteration-{i}':item for i, item in enumerate(direct_beams)})"
   ]
  },
  {
   "cell_type": "code",
   "execution_count": null,
   "metadata": {
    "scrolled": false
   },
   "outputs": [],
   "source": [
    "from scipp.plot import plot\n",
    "plot(direct_beams['layer',3])"
   ]
  },
  {
   "cell_type": "code",
   "execution_count": null,
   "metadata": {
    "scrolled": false
   },
   "outputs": [],
   "source": [
    "layer_index = 0\n",
    "for i in 1,2,4:\n",
    "    plot(direct_beams[f'iteration-{i}'].attrs['fit'].value['layer', layer_index])"
   ]
  },
  {
   "cell_type": "code",
   "execution_count": null,
   "metadata": {},
   "outputs": [],
   "source": [
    "plot(direct_beams['iteration-4'].attrs['spline'].value['wavelength',:130], collapse='wavelength')"
   ]
  },
  {
   "cell_type": "code",
   "execution_count": null,
   "metadata": {},
   "outputs": [],
   "source": []
  }
 ],
 "metadata": {
  "kernelspec": {
   "display_name": "Python 3",
   "language": "python",
   "name": "python3"
  },
  "language_info": {
   "codemirror_mode": {
    "name": "ipython",
    "version": 3
   },
   "file_extension": ".py",
   "mimetype": "text/x-python",
   "name": "python",
   "nbconvert_exporter": "python",
   "pygments_lexer": "ipython3",
   "version": "3.7.3"
  }
 },
 "nbformat": 4,
 "nbformat_minor": 4
}
