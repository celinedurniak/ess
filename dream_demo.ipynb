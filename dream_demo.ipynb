{
 "cells": [
  {
   "cell_type": "code",
   "execution_count": 1,
   "metadata": {},
   "outputs": [],
   "source": [
    "import dream\n",
    "import powder_reduction\n",
    "import scipp as sc\n",
    "from scipp import Dim"
   ]
  },
  {
   "cell_type": "markdown",
   "metadata": {},
   "source": [
    "# Testing dream class that generates fake powder dataset\n",
    "<div class=\"alert alert-block alert-info\">\n",
    "<b>Information:</b> This notebook shows how to use some of `scipp` functionalities related to the \"DREAM\" powder diffraction reduction workflow.\n",
    "\n",
    "<b>Requirements:</b> To run this notebook, you need `matplotlib`, `scipp`, `scipy` installed as well as the Python scripts `powder_reduction.py` and `dream.py` placed in the same folder as this notebook.   \n",
    "</div>\n",
    "\n",
    "- Uses the `dream` module to create a fake sparse dataset with a given number of pixels and events.\n",
    "\n",
    "- The dataset includes a calibration file `dream.cal` which is used to convert the resulting signal to d-spacing.\n",
    "\n",
    "- At the end the resulting data is plotted using `plotly`."
   ]
  },
  {
   "cell_type": "code",
   "execution_count": 6,
   "metadata": {},
   "outputs": [
    {
     "name": "stdout",
     "output_type": "stream",
     "text": [
      "Dataset with pixels initialized\n",
      "<scipp.Dataset>\n",
      "Dimensions: {{Dim.Tof, 10}, {Dim.Position, 20000}}\n",
      "Coordinates:\n",
      "    Dim.Position              vector_3_double  [m]              (Dim.Position)  [(0.323524, 0.000000, 1.207407), (0.323677, 0.000000, 1.207366), ..., (0.427674, 0.000000, -1.174562), (0.427525, 0.000000, -1.174616)]\n",
      "    Dim.Tof                   double     [μs]            (Dim.Tof)  [0.000000, 1.000000, ..., 8.000000, 9.000000]\n",
      "Labels:\n",
      "    component_info            Dataset    [dimensionless]  ()  [Dataset]\n",
      "Data:\n",
      "    sample\n",
      "        Sparse coordinate:\n",
      "            Dim.Tof           double     [μs]            (Dim.Position, Dim.Tof [sparse])  [[], [], ..., [], []]\n",
      "\n",
      "\n",
      "Calibration dataset:\n",
      "<scipp.Dataset>\n",
      "Dimensions: {{Dim.Position, 20000}}\n",
      "Data:\n",
      "    difc                      double     [Å^-1 μs]     (Dim.Position)  [5133.898105, 5136.365414, ..., 38734.342550, 38734.774770]\n",
      "    tzero                     double     [μs]            (Dim.Position)  [0.000000, 0.000000, ..., 0.000000, 0.000000]\n",
      "\n",
      "\n"
     ]
    }
   ],
   "source": [
    "# Script for demonstration of event generation\n",
    "n_pixel = int(2E4)\n",
    "n_events = int(2E6)\n",
    "\n",
    "Dream = dream.DreamTest(n_pixel) # Create a fake dream powder diffractometer with detector positions and calibration data\n",
    "# Display the detector position DataSet and calibration DataSet \n",
    "print(\"Dataset with pixels initialized\")\n",
    "print(Dream.data)\n",
    "print(\"Calibration dataset:\")\n",
    "print(Dream.cal)"
   ]
  },
  {
   "cell_type": "markdown",
   "metadata": {},
   "source": [
    "## Generating a sample\n",
    "A powder sample with a number of random Bragg peaks are generated. \n",
    "\n",
    "Here we create 30 Bragg peaks in the range of 2 to 10 AA with a $\\Delta$d over d range between 0.2 and 0.7 %. \n",
    "\n",
    "The relative strength of each of these is random as well, varying between 1.0 and 5.0. The sample data will be remembered by the Dream object."
   ]
  },
  {
   "cell_type": "code",
   "execution_count": 11,
   "metadata": {},
   "outputs": [],
   "source": [
    "Dream.generate_random_sample(30, d_range=[2, 10], deltad_over_d_range=[0.2, 0.7], strength_range=[1.0, 5.0])"
   ]
  },
  {
   "cell_type": "code",
   "execution_count": 12,
   "metadata": {},
   "outputs": [
    {
     "name": "stdout",
     "output_type": "stream",
     "text": [
      "Generated bragg peak d spacings\n",
      "[2.0908993084788694, 3.2270319157924954, 3.383082543525738, 3.5474870811235233, 3.6968825360336677, 3.7535066806959394, 3.9524097469127604, 4.193417994671564, 4.457685733307049, 4.485022356327031, 4.566523151204191, 4.808796784601345, 4.999918902323248, 5.061915183957282, 5.120139023841308, 5.827846018208414, 5.978762051095401, 6.690201226882448, 7.101221892449216, 7.147855159656507, 7.25470689049795, 7.566772823343637, 7.808206548009387, 8.37409146802397, 8.645588508374273, 8.74058470103471, 9.317135999728972, 9.378895896869128, 9.605447867070701, 9.646919040441318]\n"
     ]
    }
   ],
   "source": [
    "print(\"Generated bragg peak d spacings\") # The data can be accessed directly to check\n",
    "print(Dream.sample_bragg_peaks_d)"
   ]
  },
  {
   "cell_type": "markdown",
   "metadata": {},
   "source": [
    "## Generating random time of flight data\n",
    "The fake instrument and sample are now used to generate a requested number of events. \n",
    "\n",
    "The wavelength window can be adjusted. \n",
    "\n",
    "A simple text based progress bar will be shown unless the keyword argument `verbose` is set to False. \n",
    "\n",
    "The resulting data is checked and compared to the ESS timeframe, it would be optimal to have just under 100% coverage."
   ]
  },
  {
   "cell_type": "code",
   "execution_count": 19,
   "metadata": {},
   "outputs": [
    {
     "name": "stdout",
     "output_type": "stream",
     "text": [
      "Generating random sparse data\n",
      "Generating sparse data for each pixel\n",
      "0%\n",
      "10%\n",
      "20%\n",
      "30%\n",
      "40%\n",
      "50%\n",
      "60%\n",
      "70%\n",
      "80%\n",
      "90%\n",
      "Data was generated in 4.49 seconds.\n",
      "Distributed 2001049 events into 20000 pixels.\n",
      "Minimum time recorded: 24015 us\n",
      "Maximum time recorded: 95409 us\n",
      "Corresponding to a frame of: 71394 us, which is 100.0% of the available frame\n"
     ]
    }
   ],
   "source": [
    "print(\"Generating random sparse data\")\n",
    "Dream.generate_data_pseudo(n_events, wavelength_width=3.5, wavelength_center=3.0)"
   ]
  },
  {
   "cell_type": "code",
   "execution_count": 20,
   "metadata": {},
   "outputs": [
    {
     "name": "stdout",
     "output_type": "stream",
     "text": [
      "<scipp.Dataset>\n",
      "Dimensions: {{Dim.Tof, 10}, {Dim.Position, 20000}}\n",
      "Coordinates:\n",
      "    Dim.Position              vector_3_double  [m]              (Dim.Position)  [(0.323524, 0.000000, 1.207407), (0.323677, 0.000000, 1.207366), ..., (0.427674, 0.000000, -1.174562), (0.427525, 0.000000, -1.174616)]\n",
      "    Dim.Tof                   double     [μs]            (Dim.Tof)  [0.000000, 1.000000, ..., 8.000000, 9.000000]\n",
      "Labels:\n",
      "    component_info            Dataset    [dimensionless]  ()  [Dataset]\n",
      "Data:\n",
      "    sample\n",
      "        Sparse coordinate:\n",
      "            Dim.Tof           double     [μs]            (Dim.Position, Dim.Tof [sparse])  [[24766.170968, 24931.668084, ..., 49614.012037, 49722.935778], [24931.965588, 24745.626609, ..., 49525.605157, 49777.255220], ..., [80762.969470, 81136.532442, 81414.498354], [80424.516807, 80383.976197, 80683.074817, 80803.373750]]\n",
      "\n",
      "\n"
     ]
    }
   ],
   "source": [
    "print(Dream.data) # Print an overview of the resulting dataset"
   ]
  },
  {
   "cell_type": "markdown",
   "metadata": {},
   "source": [
    "## Convert time of flight data to dspacing\n",
    "The raw time of flight data now needs to be converted back to dspacing. This can be done using the calibration data calculated within the Dream object, or without assuming a perfect instrument. \n",
    "\n",
    "The two methods will give the same results in this case."
   ]
  },
  {
   "cell_type": "code",
   "execution_count": 21,
   "metadata": {},
   "outputs": [
    {
     "name": "stdout",
     "output_type": "stream",
     "text": [
      "<scipp.Dataset>\n",
      "Dimensions: {{Dim.DSpacing, 10}, {Dim.Position, 20000}}\n",
      "Coordinates:\n",
      "    Dim.Position              vector_3_double  [m]              (Dim.Position)  [(0.323524, 0.000000, 1.207407), (0.323677, 0.000000, 1.207366), ..., (0.427674, 0.000000, -1.174562), (0.427525, 0.000000, -1.174616)]\n",
      "    Dim.DSpacing              double     [Å]            (Dim.Position, Dim.DSpacing)  [0.000000, 0.000195, ..., 0.000207, 0.000232]\n",
      "Labels:\n",
      "    component_info            Dataset    [dimensionless]  ()  [Dataset]\n",
      "Data:\n",
      "    sample\n",
      "        Sparse coordinate:\n",
      "            Dim.DSpacing      double     [Å]            (Dim.Position, Dim.DSpacing [sparse])  [[4.824048, 4.856284, ..., 9.664004, 9.685221], [4.854009, 4.817731, ..., 9.642150, 9.691144], ..., [2.085048, 2.094692, 2.101869], [2.076287, 2.075241, 2.082962, 2.086068]]\n",
      "\n",
      "\n"
     ]
    }
   ],
   "source": [
    "dspacing = powder_reduction.powder_reduction(Dream.data, calibration=Dream.cal)\n",
    "print(dspacing) # Show the converted dataset"
   ]
  },
  {
   "cell_type": "code",
   "execution_count": 22,
   "metadata": {},
   "outputs": [
    {
     "name": "stdout",
     "output_type": "stream",
     "text": [
      "[Dim.Position, Dim.DSpacing]\n"
     ]
    }
   ],
   "source": [
    "print(dspacing.dims) # Show the dimensionality of the dspacing dataset"
   ]
  },
  {
   "cell_type": "markdown",
   "metadata": {},
   "source": [
    "## Plotting the dspacing dataset\n",
    "First the raw data is collected from each of the sparse channels in the detector array. Next `numpy` is used to histogram the data, after which the data is plotted with `matplotlib`. We see a diffraction pattern with peaks in the specified interval."
   ]
  },
  {
   "cell_type": "code",
   "execution_count": 23,
   "metadata": {},
   "outputs": [],
   "source": [
    "# Extract the sparse dspacing data from the scipp variable\n",
    "raw_data = []\n",
    "for i in range(len(dspacing.coords[Dim.Position].values)):\n",
    "    sparse = dspacing['sample'].coords[Dim.DSpacing][Dim.Position, i].values\n",
    "    this_data = [sparse[k] for k in range(len(sparse))]\n",
    "    raw_data.extend(this_data)"
   ]
  },
  {
   "cell_type": "code",
   "execution_count": 24,
   "metadata": {},
   "outputs": [
    {
     "data": {
      "text/plain": [
       "{'Dim.DSpacing.Å': {'fill_between': {'data': <matplotlib.collections.PolyCollection at 0x1235befd0>},\n",
       "  'step': {'data': [<matplotlib.lines.Line2D at 0x1291de2b0>]},\n",
       "  'line': {},\n",
       "  'errorbar': {},\n",
       "  'ax': <matplotlib.axes._subplots.AxesSubplot at 0x12c3067b8>,\n",
       "  'fig': <Figure size 432x288 with 1 Axes>}}"
      ]
     },
     "execution_count": 24,
     "metadata": {},
     "output_type": "execute_result"
    },
    {
     "data": {
      "image/png": "[encoded data removed]",
      "text/plain": [
       "<Figure size 432x288 with 1 Axes>"
      ]
     },
     "metadata": {
      "needs_background": "light"
     },
     "output_type": "display_data"
    }
   ],
   "source": [
    "# Plot using scipp feature\n",
    "import numpy as np\n",
    "from scipp.plot import plot\n",
    "%matplotlib inline\n",
    "\n",
    "data_to_plot = sc.Dataset()\n",
    "N = 501\n",
    "bins = np.linspace(2.0, 10.0, N).astype(np.float64)\n",
    "histogram_data, edges = np.histogram(raw_data, bins)\n",
    "\n",
    "data_to_plot.coords[Dim.DSpacing] = sc.Variable([Dim.DSpacing], values=bins, unit=sc.units.angstrom)\n",
    "\n",
    "data_to_plot[\"data\"] = sc.Variable([Dim.DSpacing], values=histogram_data, unit=sc.units.angstrom)\n",
    "\n",
    "sc.plot.config.backend = \"matplotlib\"\n",
    "plot(data_to_plot[\"data\"])"
   ]
  },
  {
   "cell_type": "code",
   "execution_count": null,
   "metadata": {},
   "outputs": [],
   "source": []
  }
 ],
 "metadata": {
  "kernelspec": {
   "display_name": "Python 3",
   "language": "python",
   "name": "python3"
  },
  "language_info": {
   "codemirror_mode": {
    "name": "ipython",
    "version": 3
   },
   "file_extension": ".py",
   "mimetype": "text/x-python",
   "name": "python",
   "nbconvert_exporter": "python",
   "pygments_lexer": "ipython3",
   "version": "3.7.3"
  },
  "toc": {
   "base_numbering": 1,
   "nav_menu": {},
   "number_sections": true,
   "sideBar": true,
   "skip_h1_title": false,
   "title_cell": "Table of Contents",
   "title_sidebar": "Contents",
   "toc_cell": false,
   "toc_position": {},
   "toc_section_display": true,
   "toc_window_display": false
  },
  "varInspector": {
   "cols": {
    "lenName": 16,
    "lenType": 16,
    "lenVar": 40
   },
   "kernels_config": {
    "python": {
     "delete_cmd_postfix": "",
     "delete_cmd_prefix": "del ",
     "library": "var_list.py",
     "varRefreshCmd": "print(var_dic_list())"
    },
    "r": {
     "delete_cmd_postfix": ") ",
     "delete_cmd_prefix": "rm(",
     "library": "var_list.r",
     "varRefreshCmd": "cat(var_dic_list()) "
    }
   },
   "types_to_exclude": [
    "module",
    "function",
    "builtin_function_or_method",
    "instance",
    "_Feature"
   ],
   "window_display": false
  }
 },
 "nbformat": 4,
 "nbformat_minor": 2
}
