{
 "cells": [
  {
   "cell_type": "code",
   "execution_count": null,
   "metadata": {},
   "outputs": [],
   "source": [
    "import dream\n",
    "import powder_reduction\n",
    "import scipp as sc\n",
    "from scipp import Dim"
   ]
  },
  {
   "cell_type": "markdown",
   "metadata": {},
   "source": [
    "# Testing dream class that generates fake powder dataset\n",
    "<div class=\"alert alert-block alert-info\">\n",
    "<b>Information:</b> This notebook shows how to use some of `scipp` functionalities related to the \"DREAM\" powder diffraction reduction workflow.\n",
    "\n",
    "<b>Requirements:</b> To run this notebook, you need `matplotlib`, `scipp`, `scipy` installed as well as the Python scripts `powder_reduction.py` and `dream.py` placed in the same folder as this notebook.   \n",
    "</div>\n",
    "\n",
    "- Uses the `dream` module to create a fake sparse dataset with a given number of pixels and events.\n",
    "\n",
    "- The dataset includes a calibration file `dream.cal` which is used to convert the resulting signal to d-spacing.\n",
    "\n",
    "- At the end the resulting data is plotted using `plotly`."
   ]
  },
  {
   "cell_type": "code",
   "execution_count": null,
   "metadata": {},
   "outputs": [],
   "source": [
    "# Script for demonstration of event generation\n",
    "n_pixel = int(2E4)\n",
    "n_events = int(2E6)\n",
    "\n",
    "Dream = dream.DreamTest(n_pixel) # Create a fake dream powder diffractometer with detector positions and calibration data\n",
    "# Display the detector position DataSet and calibration DataSet \n",
    "print(\"Dataset with pixels initialized\")\n",
    "print(Dream.data)\n",
    "print(\"Calibration dataset:\")\n",
    "print(Dream.cal)"
   ]
  },
  {
   "cell_type": "markdown",
   "metadata": {},
   "source": [
    "## Generating a sample\n",
    "A powder sample with a number of random Bragg peaks are generated. \n",
    "\n",
    "Here we create 30 Bragg peaks in the range of 2 to 10 AA with a $\\Delta$d over d range between 0.2 and 0.7 %. \n",
    "\n",
    "The relative strength of each of these is random as well, varying between 1.0 and 5.0. The sample data will be remembered by the Dream object."
   ]
  },
  {
   "cell_type": "code",
   "execution_count": null,
   "metadata": {},
   "outputs": [],
   "source": [
    "Dream.generate_random_sample(30, d_range=[2, 10], deltad_over_d_range=[0.2, 0.7], strength_range=[1.0, 5.0])"
   ]
  },
  {
   "cell_type": "code",
   "execution_count": null,
   "metadata": {},
   "outputs": [],
   "source": [
    "print(\"Generated bragg peak d spacings\") # The data can be accessed directly to check\n",
    "print(Dream.sample_bragg_peaks_d)"
   ]
  },
  {
   "cell_type": "markdown",
   "metadata": {},
   "source": [
    "## Generating random time of flight data\n",
    "The fake instrument and sample are now used to generate a requested number of events. \n",
    "\n",
    "The wavelength window can be adjusted. \n",
    "\n",
    "A simple text based progress bar will be shown unless the keyword argument `verbose` is set to False. \n",
    "\n",
    "The resulting data is checked and compared to the ESS timeframe, it would be optimal to have just under 100% coverage."
   ]
  },
  {
   "cell_type": "code",
   "execution_count": null,
   "metadata": {},
   "outputs": [],
   "source": [
    "print(\"Generating random sparse data\")\n",
    "Dream.generate_data_pseudo(n_events, wavelength_width=3.5, wavelength_center=3.0)"
   ]
  },
  {
   "cell_type": "code",
   "execution_count": null,
   "metadata": {},
   "outputs": [],
   "source": [
    "print(Dream.data) # Print an overview of the resulting dataset"
   ]
  },
  {
   "cell_type": "markdown",
   "metadata": {},
   "source": [
    "## Convert time of flight data to dspacing\n",
    "The raw time of flight data now needs to be converted back to dspacing. This can be done using the calibration data calculated within the Dream object, or without assuming a perfect instrument. \n",
    "\n",
    "The two methods will give the same results in this case."
   ]
  },
  {
   "cell_type": "code",
   "execution_count": null,
   "metadata": {},
   "outputs": [],
   "source": [
    "dspacing = powder_reduction.powder_reduction(Dream.data, calibration=Dream.cal)\n",
    "print(dspacing) # Show the converted dataset"
   ]
  },
  {
   "cell_type": "code",
   "execution_count": null,
   "metadata": {},
   "outputs": [],
   "source": [
    "print(dspacing.dims) # Show the dimensionality of the dspacing dataset"
   ]
  },
  {
   "cell_type": "markdown",
   "metadata": {},
   "source": [
    "## Plotting the dspacing dataset\n",
    "First the raw data is collected from each of the sparse channels in the detector array. Next `numpy` is used to histogram the data, after which the data is plotted with `matplotlib`. We see a diffraction pattern with peaks in the specified interval."
   ]
  },
  {
   "cell_type": "code",
   "execution_count": null,
   "metadata": {},
   "outputs": [],
   "source": [
    "# Extract the sparse dspacing data from the scipp variable\n",
    "raw_data = []\n",
    "for i in range(len(dspacing.coords[Dim.Position].values)):\n",
    "    sparse = dspacing['sample'].coords[Dim.DSpacing][Dim.Position, i].values\n",
    "    this_data = [sparse[k] for k in range(len(sparse))]\n",
    "    raw_data.extend(this_data)"
   ]
  },
  {
   "cell_type": "code",
   "execution_count": null,
   "metadata": {},
   "outputs": [],
   "source": [
    "# Plot using scipp feature\n",
    "import numpy as np\n",
    "from scipp.plot import plot\n",
    "%matplotlib inline\n",
    "\n",
    "data_to_plot = sc.Dataset()\n",
    "N = 501\n",
    "bins = np.linspace(2.0, 10.0, N).astype(np.float64)\n",
    "histogram_data, edges = np.histogram(raw_data, bins)\n",
    "\n",
    "data_to_plot.coords[Dim.DSpacing] = sc.Variable([Dim.DSpacing], values=bins, unit=sc.units.angstrom)\n",
    "\n",
    "data_to_plot[\"data\"] = sc.Variable([Dim.DSpacing], values=histogram_data, unit=sc.units.angstrom)\n",
    "\n",
    "sc.plot.config.backend = \"matplotlib\"\n",
    "plot(data_to_plot[\"data\"])"
   ]
  },
  {
   "cell_type": "code",
   "execution_count": null,
   "metadata": {},
   "outputs": [],
   "source": []
  }
 ],
 "metadata": {
  "kernelspec": {
   "display_name": "Python 3",
   "language": "python",
   "name": "python3"
  },
  "language_info": {
   "codemirror_mode": {
    "name": "ipython",
    "version": 3
   },
   "file_extension": ".py",
   "mimetype": "text/x-python",
   "name": "python",
   "nbconvert_exporter": "python",
   "pygments_lexer": "ipython3",
   "version": "3.6.7"
  },
  "toc": {
   "base_numbering": 1,
   "nav_menu": {},
   "number_sections": true,
   "sideBar": true,
   "skip_h1_title": false,
   "title_cell": "Table of Contents",
   "title_sidebar": "Contents",
   "toc_cell": false,
   "toc_position": {},
   "toc_section_display": true,
   "toc_window_display": false
  },
  "varInspector": {
   "cols": {
    "lenName": 16,
    "lenType": 16,
    "lenVar": 40
   },
   "kernels_config": {
    "python": {
     "delete_cmd_postfix": "",
     "delete_cmd_prefix": "del ",
     "library": "var_list.py",
     "varRefreshCmd": "print(var_dic_list())"
    },
    "r": {
     "delete_cmd_postfix": ") ",
     "delete_cmd_prefix": "rm(",
     "library": "var_list.r",
     "varRefreshCmd": "cat(var_dic_list()) "
    }
   },
   "types_to_exclude": [
    "module",
    "function",
    "builtin_function_or_method",
    "instance",
    "_Feature"
   ],
   "window_display": false
  }
 },
 "nbformat": 4,
 "nbformat_minor": 2
}
