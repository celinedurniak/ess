{
 "cells": [
  {
   "cell_type": "code",
   "execution_count": null,
   "metadata": {},
   "outputs": [],
   "source": [
    "# import mantid algorithms, numpy and matplotlib\n",
    "import matplotlib.pyplot as plt\n",
    "plt.rcParams['figure.figsize'] = [10, 8]\n",
    "#%matplotlib notebook\n",
    "\n",
    "from mantid.simpleapi import *\n",
    "\n",
    "import numpy as np\n",
    "from mantid import plots\n",
    "from mantid.simpleapi import CreateWorkspace\n",
    "import smooth_data\n",
    "import scipp as sc\n",
    "from scipp import Dim"
   ]
  },
  {
   "cell_type": "markdown",
   "metadata": {},
   "source": [
    "## DAS-148 Demo\n",
    "This notebook shows that a developed scipp function for smoothing data is eqvivalent to the original SmoothData found in Mantid. A random dataset is generated from a gaussian distribution with gaussian errors scaled by the squareroot of the signal. A second dataset with a few outliers is generated as well to see how the smoothing handle such cases. Data is smoothed using both solutions and the results are plotted."
   ]
  },
  {
   "cell_type": "code",
   "execution_count": null,
   "metadata": {},
   "outputs": [],
   "source": [
    "# Create a workspace that has a Gaussian peak, Mantid plot example\n",
    "x = np.arange(30)\n",
    "y0 = 20.+50.*np.exp(-(x-8.)**2./120.)\n",
    "err = np.sqrt(y0)\n",
    "y = 20.+50.*np.exp(-(x-8.)**2./120.)\n",
    "y += err*np.random.normal(size=len(err))\n",
    "err = np.sqrt(y)\n",
    "\n",
    "# Add a dataset with outliers\n",
    "y_outlier = y + np.around(np.random.sample(size=len(err))*0.54)*45.0\n",
    "err_outlier = np.sqrt(y_outlier)\n",
    "\n",
    "# Create Mantid workspaces for easy plotting\n",
    "w = CreateWorkspace(DataX=x, DataY=y, DataE=err, NSpec=1, UnitX='tof')\n",
    "w_outlier = CreateWorkspace(DataX=x, DataY=y_outlier, DataE=err_outlier, NSpec=1, UnitX='tof')"
   ]
  },
  {
   "cell_type": "code",
   "execution_count": null,
   "metadata": {},
   "outputs": [],
   "source": [
    "def plot_comparison_mantid(w, x, y0, y, err, NPoints):\n",
    "    fig, ax = plt.subplots(subplot_kw={'projection':'mantid'})\n",
    "    ax.errorbar(w,'rs', label='Original data') # plot the workspace with errorbars, using red squares\n",
    "    ax.plot(x, y0,'k-', label='Base distribution') # plot the initial distribution with black line\n",
    "\n",
    "    smooth = SmoothData(w, NPoints)\n",
    "    ax.errorbar(smooth,'bo', label='Smoothed data') # plot the workspace with errorbars, using blue circles\n",
    "    ax.legend(['Original distribution', 'Generated data', 'Smoothed'])"
   ]
  },
  {
   "cell_type": "markdown",
   "metadata": {},
   "source": [
    "### Reference Mantid plot, 3 and 5 point smoothing\n",
    "Here we see a comparison between smoothing with 3 and 5 points using the reference Mantid routine."
   ]
  },
  {
   "cell_type": "code",
   "execution_count": null,
   "metadata": {},
   "outputs": [],
   "source": [
    "plot_comparison_mantid(w, x, y0, y, err, 3)\n",
    "plot_comparison_mantid(w, x, y0, y, err, 5)"
   ]
  },
  {
   "cell_type": "markdown",
   "metadata": {},
   "source": [
    "### Reference Mantid plot, 3 and 5 point smoothing of data with outliers\n",
    "\n",
    "Here we see a comparison between smoothing with 3 and 5 points using the reference Mantid routine. A few outliers have been added to this dataset, which the smoothing has issues with."
   ]
  },
  {
   "cell_type": "code",
   "execution_count": null,
   "metadata": {},
   "outputs": [],
   "source": [
    "plot_comparison_mantid(w_outlier, x, y0, y_outlier, err_outlier, 3)\n",
    "plot_comparison_mantid(w_outlier, x, y0, y_outlier, err_outlier, 5)"
   ]
  },
  {
   "cell_type": "code",
   "execution_count": null,
   "metadata": {},
   "outputs": [],
   "source": [
    "def plot_comparison_scipp(w, x, y0, y, err, NPoints):\n",
    "    fig, ax = plt.subplots(subplot_kw={'projection':'mantid'})\n",
    "    ax.errorbar(w,'rs', label='Original data') # plot the workspace with errorbars, using red squares\n",
    "    ax.plot(x, y0,'k-', label='Base distribution') # plot the initial distribution with black line\n",
    "    \n",
    "    input_y = sc.Variable(dims=[Dim.Tof], values=y, variances=err**2, unit=sc.units.us)\n",
    "    output = smooth_data.smooth_data(input_y, dim=Dim.Tof, NPoints=NPoints)\n",
    "    \n",
    "    smooth = CreateWorkspace(DataX=x, DataY=output.values, DataE=np.sqrt(output.variances), NSpec=1, UnitX='Tof')\n",
    "\n",
    "    ax.errorbar(smooth,'bo', label='Smoothed data') # plot the workspace with errorbars, using blue circles\n",
    "    ax.legend(['Original distribution', 'Generated data', 'Smoothed'])"
   ]
  },
  {
   "cell_type": "markdown",
   "metadata": {},
   "source": [
    "### Scipp plot, 3 and 5 point smoothing\n",
    "Here we see a comparison between smoothing with 3 and 5 points with the developed scipp routine. Results are visually similar to the Mantid version as expected."
   ]
  },
  {
   "cell_type": "code",
   "execution_count": null,
   "metadata": {},
   "outputs": [],
   "source": [
    "plot_comparison_scipp(w, x, y0, y, err, 3)\n",
    "plot_comparison_scipp(w, x, y0, y, err, 5)"
   ]
  },
  {
   "cell_type": "markdown",
   "metadata": {},
   "source": [
    "### Scipp plot, 3 and 5 point smoothing of data with outliers\n",
    "\n",
    "Here we see a comparison between smoothing with 3 and 5 points using the developed scipp routine. A few outliers have been added to this dataset, which the smoothing has issues with. The scipp routine seems to handle this in the same way as the reference."
   ]
  },
  {
   "cell_type": "code",
   "execution_count": null,
   "metadata": {},
   "outputs": [],
   "source": [
    "plot_comparison_scipp(w_outlier, x, y0, y_outlier, err_outlier, 3)\n",
    "plot_comparison_scipp(w_outlier, x, y0, y_outlier, err_outlier, 5)"
   ]
  },
  {
   "cell_type": "markdown",
   "metadata": {},
   "source": [
    "### Direct comparison\n",
    "Here two identical plots are made using the two different approaches, Mantid and scipp."
   ]
  },
  {
   "cell_type": "code",
   "execution_count": null,
   "metadata": {},
   "outputs": [],
   "source": [
    "plot_comparison_mantid(w_outlier, x, y0, y_outlier, err_outlier, 5)\n",
    "plot_comparison_scipp(w_outlier, x, y0, y_outlier, err_outlier, 5)"
   ]
  },
  {
   "cell_type": "markdown",
   "metadata": {},
   "source": [
    "## Numerical test for identical results\n",
    "Here the two different methods are used on the same data set, and instead of plotting the results the numpy routine allclose is used to check that the returned data is identical within reasonable tolerances."
   ]
  },
  {
   "cell_type": "code",
   "execution_count": null,
   "metadata": {},
   "outputs": [],
   "source": [
    "# Scipp smooth\n",
    "input_y = sc.Variable(dims=[Dim.Tof], values=y, variances=err**2, unit=sc.units.us)\n",
    "output = smooth_data.smooth_data(input_y, dim=Dim.Tof, NPoints=3)\n",
    "\n",
    "# Mantid smooth reference\n",
    "smooth = SmoothData(w, 3)\n",
    "\n",
    "np.allclose(output.values, smooth.readY(0))"
   ]
  },
  {
   "cell_type": "code",
   "execution_count": null,
   "metadata": {},
   "outputs": [],
   "source": [
    "np.allclose(np.sqrt(output.variances), smooth.readE(0))"
   ]
  },
  {
   "cell_type": "code",
   "execution_count": null,
   "metadata": {},
   "outputs": [],
   "source": [
    "# Scipp smooth\n",
    "output = smooth_data.smooth_data(input_y, dim=Dim.Tof, NPoints=5)\n",
    "\n",
    "# Mantid smooth reference\n",
    "smooth = SmoothData(w, 5)\n",
    "\n",
    "np.allclose(output.values, smooth.readY(0))"
   ]
  },
  {
   "cell_type": "code",
   "execution_count": null,
   "metadata": {},
   "outputs": [],
   "source": [
    "np.allclose(np.sqrt(output.variances), smooth.readE(0))"
   ]
  }
 ],
 "metadata": {
  "kernelspec": {
   "display_name": "Python 3",
   "language": "python",
   "name": "python3"
  },
  "language_info": {
   "codemirror_mode": {
    "name": "ipython",
    "version": 3
   },
   "file_extension": ".py",
   "mimetype": "text/x-python",
   "name": "python",
   "nbconvert_exporter": "python",
   "pygments_lexer": "ipython3",
   "version": "3.7.6"
  },
  "toc": {
   "base_numbering": 1,
   "nav_menu": {},
   "number_sections": true,
   "sideBar": true,
   "skip_h1_title": false,
   "title_cell": "Table of Contents",
   "title_sidebar": "Contents",
   "toc_cell": false,
   "toc_position": {},
   "toc_section_display": true,
   "toc_window_display": false
  },
  "varInspector": {
   "cols": {
    "lenName": 16,
    "lenType": 16,
    "lenVar": 40
   },
   "kernels_config": {
    "python": {
     "delete_cmd_postfix": "",
     "delete_cmd_prefix": "del ",
     "library": "var_list.py",
     "varRefreshCmd": "print(var_dic_list())"
    },
    "r": {
     "delete_cmd_postfix": ") ",
     "delete_cmd_prefix": "rm(",
     "library": "var_list.r",
     "varRefreshCmd": "cat(var_dic_list()) "
    }
   },
   "types_to_exclude": [
    "module",
    "function",
    "builtin_function_or_method",
    "instance",
    "_Feature"
   ],
   "window_display": false
  }
 },
 "nbformat": 4,
 "nbformat_minor": 2
}
