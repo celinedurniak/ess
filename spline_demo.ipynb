{
 "cells": [
  {
   "cell_type": "code",
   "execution_count": null,
   "metadata": {},
   "outputs": [],
   "source": [
    "# import mantid algorithms, numpy and matplotlib\n",
    "import matplotlib.pyplot as plt\n",
    "plt.rcParams['figure.figsize'] = [10, 8]\n",
    "#%matplotlib notebook\n",
    "\n",
    "from mantid.simpleapi import *\n",
    "\n",
    "import numpy as np\n",
    "from mantid import plots\n",
    "from mantid.simpleapi import CreateWorkspace\n",
    "import spline_background\n",
    "import scipp as sc\n",
    "from scipp import Dim"
   ]
  },
  {
   "cell_type": "markdown",
   "metadata": {},
   "source": [
    "## DAS-145 Demo\n",
    "This notebook shows behaviour of the background spline method implemented in scipp/ess. A random, noisy dataset is generated from a gaussian distribution. A second non-random dataset is generated as well. Splines for both cases are generated with scipp and Mantid and compared and plotted."
   ]
  },
  {
   "cell_type": "code",
   "execution_count": null,
   "metadata": {},
   "outputs": [],
   "source": [
    "# Create a workspace with Gaussian peak\n",
    "x = np.arange(30)\n",
    "y0 = 20.+50.*np.exp(-(x-8.)**2./120.)\n",
    "err = np.sqrt(y0)\n",
    "y = 20.+50.*np.exp(-(x-8.)**2./120.)\n",
    "y += err*np.random.normal(size=len(err))\n",
    "err = np.sqrt(y)\n",
    "var_x = sc.Variable(dims=[sc.Dim.X], values=x)\n",
    "var_y = sc.Variable(dims=[sc.Dim.X], values=y, variances=err**2)\n",
    "da_1 = sc.DataArray(data=var_y, coords={sc.Dim.X: var_x})\n",
    "\n",
    "# Create Mantid workspaces for easy plotting\n",
    "w_1 = CreateWorkspace(DataX=x, DataY=y, DataE=err, NSpec=1, UnitX='tof')"
   ]
  },
  {
   "cell_type": "code",
   "execution_count": null,
   "metadata": {},
   "outputs": [],
   "source": [
    "# Create a damped sinusoidal example\n",
    "N = 100\n",
    "x_2 = np.arange(N)\n",
    "y0 = np.zeros(N)\n",
    "y_2 = y0\n",
    "for i, item in enumerate(y_2):\n",
    "    xi = (15.0 / (N-1)) * i\n",
    "    y_2[i] = np.cos(xi) * np.exp(-0.1*xi)\n",
    "err_2 = np.sqrt(y_2*y_2)\n",
    "\n",
    "var_x = sc.Variable(dims=[sc.Dim.X], values=x_2)\n",
    "var_y = sc.Variable(dims=[sc.Dim.X], values=y_2, variances=err_2**2)\n",
    "da_2 = sc.DataArray(data=var_y, coords={sc.Dim.X: var_x})\n",
    "\n",
    "# Create Mantid workspaces for easy plotting\n",
    "w_2 = CreateWorkspace(DataX=x_2, DataY=y_2, DataE=err_2, NSpec=1, UnitX='tof')    "
   ]
  },
  {
   "cell_type": "code",
   "execution_count": null,
   "metadata": {},
   "outputs": [],
   "source": [
    "def plot_mantid_spline(w, x, y, err):\n",
    "    fig, ax = plt.subplots(subplot_kw={'projection':'mantid'})\n",
    "    ax.plot(w,'x', label='Original data') # plot the initial distribution with black line\n",
    "\n",
    "    spline = SplineBackground(w_1)\n",
    "    ax.plot(spline, label='Splined data')\n",
    "    ax.legend(['Generated data', 'Spline'])"
   ]
  },
  {
   "cell_type": "markdown",
   "metadata": {},
   "source": [
    "### Reference Mantid plot, SplineBackground method"
   ]
  },
  {
   "cell_type": "code",
   "execution_count": null,
   "metadata": {},
   "outputs": [],
   "source": [
    "plot_mantid_spline(w_1, x, y0, err)"
   ]
  },
  {
   "cell_type": "markdown",
   "metadata": {},
   "source": [
    "### Comparison between Mantid SplineBackground and scipp spline_background methods"
   ]
  },
  {
   "cell_type": "code",
   "execution_count": null,
   "metadata": {},
   "outputs": [],
   "source": [
    "def plot_comparison(w, da, x, y):\n",
    "    fig, ax = plt.subplots(subplot_kw={'projection':'mantid'})\n",
    "    ax.plot(x, y,'x', label='Base distribution') # plot the initial distribution with black line\n",
    "    \n",
    "    output_array = spline_background.bspline_background(da, Dim.X)\n",
    "    x_sp = output_array.coords[sc.Dim.X].values\n",
    "    y_sp = output_array.values    \n",
    "    ax.plot(x_sp, y_sp,'b-', label='scipp spline') # plot the scipp spline\n",
    "    \n",
    "    output_mantid = SplineBackground(w, NCoeff=20)\n",
    "    ax.plot(output_mantid, 'c-', label='mantid spline') # plot the mantid spline\n",
    "    ax.legend(['Original distribution', 'Scipp spline', 'Mantid spline'])"
   ]
  },
  {
   "cell_type": "code",
   "execution_count": null,
   "metadata": {},
   "outputs": [],
   "source": [
    "plot_comparison(w_1, da_1, x, y)"
   ]
  },
  {
   "cell_type": "code",
   "execution_count": null,
   "metadata": {},
   "outputs": [],
   "source": [
    "plot_comparison(w_2, da_2, x_2, y_2)"
   ]
  },
  {
   "cell_type": "code",
   "execution_count": null,
   "metadata": {},
   "outputs": [],
   "source": []
  }
 ],
 "metadata": {
  "kernelspec": {
   "display_name": "Python 3",
   "language": "python",
   "name": "python3"
  },
  "language_info": {
   "codemirror_mode": {
    "name": "ipython",
    "version": 3
   },
   "file_extension": ".py",
   "mimetype": "text/x-python",
   "name": "python",
   "nbconvert_exporter": "python",
   "pygments_lexer": "ipython3",
   "version": "3.6.7"
  }
 },
 "nbformat": 4,
 "nbformat_minor": 2
}
