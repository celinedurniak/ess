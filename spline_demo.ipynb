{
 "cells": [
  {
   "cell_type": "code",
   "execution_count": null,
   "metadata": {},
   "outputs": [],
   "source": [
    "# import mantid algorithms, numpy and matplotlib\n",
    "import matplotlib.pyplot as plt\n",
    "plt.rcParams['figure.figsize'] = [10, 8]\n",
    "#%matplotlib notebook\n",
    "\n",
    "from mantid.simpleapi import *\n",
    "\n",
    "import numpy as np\n",
    "from mantid import plots\n",
    "from mantid.simpleapi import CreateWorkspace\n",
    "import spline_background\n",
    "import scipp as sc\n",
    "from scipp import Dim"
   ]
  },
  {
   "cell_type": "code",
   "execution_count": null,
   "metadata": {},
   "outputs": [],
   "source": []
  },
  {
   "cell_type": "markdown",
   "metadata": {},
   "source": [
    "## DAS-145 Demo\n",
    "This notebook shows behaviour of the background spline method implemented in scipp/ess. A random dataset is generated from a gaussian distribution. A second non-random dataset is generated as well. Splines for both cases are generated with scipp and Mantid and compared and plotted."
   ]
  },
  {
   "cell_type": "code",
   "execution_count": null,
   "metadata": {},
   "outputs": [],
   "source": [
    "# Create a workspace with Gaussian peak\n",
    "x = np.arange(30)\n",
    "y0 = 20.+50.*np.exp(-(x-8.)**2./120.)\n",
    "err = np.sqrt(y0)\n",
    "y = 20.+50.*np.exp(-(x-8.)**2./120.)\n",
    "y += err*np.random.normal(size=len(err))\n",
    "err = np.sqrt(y)\n",
    "\n",
    "# Create Mantid workspaces for easy plotting\n",
    "w_1 = CreateWorkspace(DataX=x, DataY=y, DataE=err, NSpec=1, UnitX='tof')"
   ]
  },
  {
   "cell_type": "code",
   "execution_count": null,
   "metadata": {},
   "outputs": [],
   "source": [
    "# Create a damped sinusoidal example\n",
    "N = 100\n",
    "x_2 = np.arange(N)\n",
    "y_2 = np.zeros(N)\n",
    "err_2 = np.sqrt(y_2)\n",
    "for i, item in enumerate(y_2):\n",
    "    xi = (15.0 / (N-1)) * i\n",
    "    y_2[i] = np.cos(xi) * np.exp(-0.1*xi)\n",
    "\n",
    "\n",
    "# Create Mantid workspaces for easy plotting\n",
    "w_2 = CreateWorkspace(DataX=x_2, DataY=y_2, DataE=err_2, NSpec=1, UnitX='tof')    "
   ]
  },
  {
   "cell_type": "code",
   "execution_count": null,
   "metadata": {},
   "outputs": [],
   "source": [
    "def plot_mantid_spline(w, x, y, err):\n",
    "    fig, ax = plt.subplots(subplot_kw={'projection':'mantid'})\n",
    "    #ax.errorbar(w_1,'rs', label='Original data') # plot the workspace with errorbars, using red squares\n",
    "    #ax.plot(x, y,'k-', label='Base distribution') # plot the initial distribution with black line\n",
    "    ax.plot(w,'x', label='Original data') # plot the initial distribution with black line\n",
    "\n",
    "    spline = SplineBackground(w_1)\n",
    "    #ax.errorbar(spline,'bo', label='Splined data') # plot the workspace with errorbars, using blue circles\n",
    "    ax.plot(spline, label='Splined data')\n",
    "    ax.legend(['Generated data', 'Spline'])"
   ]
  },
  {
   "cell_type": "markdown",
   "metadata": {},
   "source": [
    "### Reference Mantid plot, SplineBackground method"
   ]
  },
  {
   "cell_type": "code",
   "execution_count": null,
   "metadata": {},
   "outputs": [],
   "source": [
    "plot_mantid_spline(w_1, x, y0, err)\n",
    "plot_mantid_spline(w_2, x_2, y_2, err)"
   ]
  },
  {
   "cell_type": "markdown",
   "metadata": {},
   "source": [
    "### Reference Mantid plot, spline_background method"
   ]
  },
  {
   "cell_type": "code",
   "execution_count": null,
   "metadata": {},
   "outputs": [],
   "source": [
    "def plot_comparison(w, x, y):\n",
    "    fig, ax = plt.subplots(subplot_kw={'projection':'mantid'})\n",
    "    #ax.errorbar(w,'rs', label='Original data') # plot the workspace with errorbars, using red squares\n",
    "    ax.plot(x, y,'x', label='Base distribution') # plot the initial distribution with black line\n",
    "    \n",
    "    input_y = sc.Variable(dims=[Dim.Tof], values=y, unit=sc.units.us)\n",
    "    output = spline_background.bspline_background(input_y, x, dim=Dim.Tof)\n",
    "    ax.plot(output[0], output[1],'b-', label='scipp spline') # plot the scipp spline\n",
    "    \n",
    "    #ws_mantid = CreateWorkspace(DataX=x, DataY=y, NSpec=1, UnitX='Tof')\n",
    "    output_mantid = SplineBackground(w, NCoeff=20)\n",
    "    ax.plot(output_mantid, 'c-', label='mantid spline') # plot the mantid spline\n",
    "    #ax.errorbar(smooth,'bo', label='Smoothed data') # plot the workspace with errorbars, using blue circles\n",
    "    ax.legend(['Original distribution', 'Scipp spline', 'Mantid spline'])"
   ]
  },
  {
   "cell_type": "code",
   "execution_count": null,
   "metadata": {},
   "outputs": [],
   "source": [
    "plot_comparison(w_1, x, y)"
   ]
  },
  {
   "cell_type": "code",
   "execution_count": null,
   "metadata": {},
   "outputs": [],
   "source": [
    "plot_comparison(w_2, x_2, y_2)"
   ]
  }
 ],
 "metadata": {
  "kernelspec": {
   "display_name": "Python 3",
   "language": "python",
   "name": "python3"
  },
  "language_info": {
   "codemirror_mode": {
    "name": "ipython",
    "version": 3
   },
   "file_extension": ".py",
   "mimetype": "text/x-python",
   "name": "python",
   "nbconvert_exporter": "python",
   "pygments_lexer": "ipython3",
   "version": "3.6.7"
  }
 },
 "nbformat": 4,
 "nbformat_minor": 2
}
