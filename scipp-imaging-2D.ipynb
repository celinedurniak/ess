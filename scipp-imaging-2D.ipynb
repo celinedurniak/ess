{
 "cells": [
  {
   "cell_type": "markdown",
   "metadata": {},
   "source": [
    "# How to start\n",
    "\n",
    "Before starting you must:\n",
    "- Ensure that `scipp` and `mantid` are on your `PYTHONPATH`.\n",
    "- Generate the `config.py` file using `make_config.py`. Refer to the `README.md` or `python make_config.py --help` for information.\n",
    "- Install dependencies : `conda install fabio tifffile` (used for image handling)\n",
    "\n",
    "For `scipp` and `mantid` follow instructions at: https://scipp.readthedocs.io/en/latest/getting-started/installation.html.\n",
    "\n",
    "Converted to use scipp and notebook from [this file](https://git.esss.dk/testbeamline/gp2/blob/1c69213b1124982bbbe762da9c6c6457a49f2a92/reduce.py) by Dimitar Tasev on 2020-01-13"
   ]
  },
  {
   "cell_type": "code",
   "execution_count": null,
   "metadata": {
    "scrolled": true
   },
   "outputs": [],
   "source": [
    "try:\n",
    "    import scipp\n",
    "except ImportError as e:\n",
    "    print(\"scipp is not available in the PYTHONPATH\")\n",
    "    raise e\n",
    "    \n",
    "try:\n",
    "    import mantid\n",
    "except ImportError as e:\n",
    "    print(\"mantid is not available in the PYTHONPATH\")\n",
    "    raise e\n",
    "    \n",
    "try:\n",
    "    import scippconfig\n",
    "except ImportError as e:\n",
    "    print(\"scippconfig is not available. Make sure you have generated it with `make_config.py`.\")\n",
    "    raise e"
   ]
  },
  {
   "cell_type": "code",
   "execution_count": null,
   "metadata": {},
   "outputs": [],
   "source": [
    "# Lets get everything set up\n",
    "import os\n",
    "\n",
    "import scipp as sc\n",
    "import numpy as np\n",
    "from scipp import Dim\n",
    "from mantid.simpleapi import SaveNexusESS\n",
    "\n",
    "import imaging\n",
    "\n",
    "DATA_DIR_NAME = \"data_GP2\"\n",
    "experiment_dir = scippconfig.script_root\n",
    "data_dir = os.path.join(scippconfig.script_root, DATA_DIR_NAME)\n",
    "\n",
    "if not os.path.exists(data_dir):\n",
    "    raise FileNotFoundError(\"The following data directory does not exist,\"\n",
    "                            f\" check your make_config.py:\\n{data_dir}\")"
   ]
  },
  {
   "cell_type": "code",
   "execution_count": null,
   "metadata": {
    "scrolled": true
   },
   "outputs": [],
   "source": [
    "# Customisable Options:\n",
    "\n",
    "# Whether or not to do the plotting.\n",
    "do_plots = True\n",
    "\n",
    "# defining grouping of 2D detector pixels\n",
    "grouping_number = 3\n",
    "nx_target = grouping_number\n",
    "ny_target = grouping_number\n",
    "\n",
    "# Rebin regions for each of the 5 frames\n",
    "# in the format of [bin-start, bin-end, bin width].\n",
    "# used to crop each image, before stitching them together\n",
    "frame_parameters = [(15167, 23563, 64),\n",
    "                    (24393, 32758, 64),\n",
    "                    (33365, 40708, 64),\n",
    "                    (41410, 48019, 64),\n",
    "                    (49041, 55311, 64),\n",
    "                    (56077, 59872, 64)]\n",
    "\n",
    "# Used to shift the cropped frames so that their bins overlap \n",
    "# before summing them together into a single frame\n",
    "frame_shift_increments = [-6630.0, -2420.0, -2253.0, -2095.0, -1946.0, -1810.0]\n",
    "frame_shifts = [sum(frame_shift_increments[:i + 1]) for i in range(len(frame_shift_increments))]\n",
    "\n",
    "# Used to rebin the summed frame in order to\n",
    "# cut off frames that contain no data\n",
    "rebin_parameters = {\"start\": 8500, \"stop\": 43000, \"width\": 64}"
   ]
  },
  {
   "cell_type": "code",
   "execution_count": null,
   "metadata": {
    "scrolled": true
   },
   "outputs": [],
   "source": [
    "# let's get the process started:\n",
    "tofs_path = os.path.join(data_dir, 'metadata', 'GP2_BCC_time_values.txt')\n",
    "sample_path = os.path.join(data_dir, 'Timeslices WFM BBC Steel')\n",
    "ob_path = os.path.join(data_dir, 'Timeslices WFM Open Beam')\n",
    "instrument_file = os.path.join(experiment_dir, 'IDF', 'V20_Definition_GP2.xml')\n",
    "\n",
    "ds = sc.Dataset()\n",
    "\n",
    "# Load X values from the TOF file\n",
    "ds.coords[Dim.Tof] = sc.Variable([Dim.Tof], unit=sc.units.us, values=imaging.read_x_values(tofs_path))\n",
    "ds.coords[Dim.Tof] *= 1e3"
   ]
  },
  {
   "cell_type": "code",
   "execution_count": null,
   "metadata": {
    "scrolled": true
   },
   "outputs": [],
   "source": [
    "# Load the data into the dataset\n",
    "ds[\"sample\"] = imaging.tiffs_to_variable(sample_path)\n",
    "ds[\"reference\"] = imaging.tiffs_to_variable(ob_path)\n",
    "\n",
    "sc.plot.plot(sc.sum(ds, Dim.Spectrum)) if do_plots else None"
   ]
  },
  {
   "cell_type": "code",
   "execution_count": null,
   "metadata": {
    "scrolled": true
   },
   "outputs": [],
   "source": [
    "# Adds a coordinate for the spectra\n",
    "ds.coords[Dim.Spectrum] = sc.Variable([Dim.Spectrum], values=np.arange(ds[\"sample\"].shape[1]))\n",
    "ds"
   ]
  },
  {
   "cell_type": "code",
   "execution_count": null,
   "metadata": {
    "scrolled": true
   },
   "outputs": [],
   "source": [
    "stitched = sc.Dataset(coords={Dim.Tof: sc.Variable([Dim.Tof],\n",
    "                      values=np.arange(start=rebin_parameters[\"start\"], stop=rebin_parameters[\"stop\"],\n",
    "                                       step=rebin_parameters[\"width\"], dtype=np.float64),\n",
    "                      unit=sc.units.us)})\n",
    "\n",
    "stitched[\"sample\"] = imaging.stitch(ds[\"sample\"], frame_parameters, frame_shifts, rebin_parameters)\n",
    "stitched[\"reference\"] = imaging.stitch(ds[\"reference\"], frame_parameters, frame_shifts, rebin_parameters)\n",
    "\n",
    "sc.plot.plot(sc.sum(stitched, Dim.Spectrum)) if do_plots else None"
   ]
  },
  {
   "cell_type": "code",
   "execution_count": null,
   "metadata": {
    "scrolled": true
   },
   "outputs": [],
   "source": [
    "stitched[\"normalized\"] = stitched[\"sample\"] / stitched[\"reference\"]\n",
    "replacement=sc.Variable(value=0.0, variance=0.0)\n",
    "kwargs = {\"nan\" : replacement, \"posinf\" : replacement, \"neginf\" : replacement}\n",
    "sc.nan_to_num(stitched[\"normalized\"].data, out=stitched[\"normalized\"].data, **kwargs)"
   ]
  },
  {
   "cell_type": "code",
   "execution_count": null,
   "outputs": [],
   "source": [
    "stitched.coords[\"detector_mapping\"] = imaging.make_detector_groups(324, 324, nx_target, ny_target)\n",
    "stitched.coords[\"detector_mapping\"]"
   ],
   "metadata": {
    "collapsed": false,
    "pycharm": {
     "name": "#%%\n"
    }
   }
  },
  {
   "cell_type": "code",
   "execution_count": null,
   "outputs": [],
   "source": [
    "dm1d = sc.groupby(stitched[\"normalized\"], \"detector_mapping\")\n",
    "grouped = sc.Dataset()\n",
    "grouped[\"normalized_grpd\"] = dm1d.sum(Dim.Spectrum)"
   ],
   "metadata": {
    "collapsed": false,
    "pycharm": {
     "name": "#%%\n"
    }
   }
  },
  {
   "cell_type": "code",
   "execution_count": null,
   "metadata": {
    "scrolled": true
   },
   "outputs": [],
   "source": [
    "# Plot the first group\n",
    "grouped\n",
    "sc.plot.plot(grouped[\"normalized_grpd\"]['detector_mapping', 0]) if do_plots else None"
   ]
  },
  {
   "cell_type": "code",
   "execution_count": null,
   "metadata": {
    "scrolled": true
   },
   "outputs": [],
   "source": [
    "# Adds the component info needed for converting units\n",
    "sc.compat.mantid.load_component_info(stitched, instrument_file)\n",
    "\n",
    "grouped.coords[\"source_position\"] = stitched.coords[\"source_position\"]\n",
    "grouped.coords[\"sample_position\"] = stitched.coords[\"sample_position\"]"
   ]
  },
  {
   "cell_type": "code",
   "execution_count": null,
   "metadata": {
    "scrolled": true
   },
   "outputs": [],
   "source": [
    "# Note: this cell is currently a workaround until \n",
    "# https://github.com/scipp/scipp/issues/823 is done.\n",
    "# Then it should be possible to group the positions label directly.\n",
    "\n",
    "# makes the position a DataConstProxy otherwise groupby won't take it\n",
    "stitched[\"position\"] = stitched.coords[\"position\"]\n",
    "dm1d = sc.groupby(stitched[\"position\"], \"detector_mapping\")\n",
    "position = dm1d.mean(Dim.Spectrum)\n",
    "\n",
    "# can't do stitched.labels[\"position\"] = position because Labels won't take a DataArray\n",
    "# also can't do stitched.labels[\"position\"] = sc.Variable(position) because then sc.convert \n",
    "# thinks stitched.labels[\"position\"] is dimensionless (as it's actually still a DataArray)\n",
    "\n",
    "pos = np.zeros((position.shape[0], 3))\n",
    "for i, val in enumerate(position.values):\n",
    "    pos[i, :] = val\n",
    "\n",
    "# finally add it back!\n",
    "grouped.coords[\"position\"] = sc.Variable(position.dims, pos, unit=sc.units.m, dtype=position.dtype)\n"
   ]
  },
  {
   "cell_type": "code",
   "execution_count": null,
   "metadata": {
    "scrolled": true
   },
   "outputs": [],
   "source": [
    "grouped[\"normalized_wl\"] = sc.neutron.convert(grouped[\"normalized_grpd\"], Dim.Tof, Dim.Wavelength)\n",
    "grouped"
   ]
  },
  {
   "cell_type": "code",
   "execution_count": null,
   "metadata": {
    "scrolled": true
   },
   "outputs": [],
   "source": [
    "sc.plot.plot(grouped[\"normalized_wl\"][\"detector_mapping\", 0]) if do_plots else None"
   ]
  },
  {
   "cell_type": "code",
   "execution_count": null,
   "metadata": {
    "scrolled": true
   },
   "outputs": [],
   "source": [
    "x_coords = grouped[\"normalized_wl\"].coords[\"wavelength\"]\n",
    "x_dim = grouped[\"normalized_wl\"].dims[0]\n",
    "x = x_coords.values\n",
    "\n",
    "# Mantid expects the data in a different shape\n",
    "# which is spectrum as outer-most dimension.\n",
    "y = np.transpose(grouped[\"normalized_wl\"].values)\n",
    "e = np.transpose(grouped[\"normalized_wl\"].variances)\n",
    "\n",
    "ws = sc.compat.mantid.to_workspace_2d(x, y, e, str(x_dim), instrument_file)\n",
    "ws"
   ]
  },
  {
   "cell_type": "code",
   "execution_count": null,
   "metadata": {
    "scrolled": true
   },
   "outputs": [],
   "source": [
    "# If you want to save the workspace uncomment this line\n",
    "SaveNexusESS(ws, \"scipp_normalized_wl.nxs\")"
   ]
  },
  {
   "cell_type": "code",
   "execution_count": null,
   "metadata": {
    "scrolled": true
   },
   "outputs": [],
   "source": [
    "fit_ds = sc.compat.mantid.fit(ws, \n",
    "                    function='name=LinearBackground,A0=5000,A1=0;name=UserFunction,Formula=h*erfc(a*(x-x0)),h=5000,a=-0.5,x0=4',\n",
    "                    workspace_index=2, start_x=3.6, end_x=4.4)"
   ]
  },
  {
   "cell_type": "code",
   "execution_count": null,
   "metadata": {
    "pycharm": {
     "name": "#%%\n"
    },
    "scrolled": true
   },
   "outputs": [],
   "source": [
    "plot_handle = sc.plot.plot(fit_ds[\"workspace\"].value)\n",
    "plot_handle = sc.plot.plot(fit_ds[\"workspace\"].value, collapse=Dim.Wavelength)"
   ]
  }
 ],
 "metadata": {
  "kernelspec": {
   "display_name": "Python 3",
   "language": "python",
   "name": "python3"
  },
  "language_info": {
   "codemirror_mode": {
    "name": "ipython",
    "version": 3
   },
   "file_extension": ".py",
   "mimetype": "text/x-python",
   "name": "python",
   "nbconvert_exporter": "python",
   "pygments_lexer": "ipython3",
   "version": "3.7.6"
  }
 },
 "nbformat": 4,
 "nbformat_minor": 2
}